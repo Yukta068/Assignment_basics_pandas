{
 "cells": [
  {
   "cell_type": "code",
   "execution_count": 1,
   "id": "a5c9bf78-d1ee-4e76-8ea0-f5bc0eccd1d3",
   "metadata": {},
   "outputs": [],
   "source": [
    "#Ans1\n",
    "import pandas as pd"
   ]
  },
  {
   "cell_type": "code",
   "execution_count": 5,
   "id": "e747a562-dd63-474b-89f4-ea41a25b5330",
   "metadata": {},
   "outputs": [],
   "source": [
    "s=pd.Series([4,8,15,16,42])"
   ]
  },
  {
   "cell_type": "code",
   "execution_count": 6,
   "id": "03ee337c-bc79-427b-b28d-ffc3e5cff217",
   "metadata": {},
   "outputs": [
    {
     "data": {
      "text/plain": [
       "0     4\n",
       "1     8\n",
       "2    15\n",
       "3    16\n",
       "4    42\n",
       "dtype: int64"
      ]
     },
     "execution_count": 6,
     "metadata": {},
     "output_type": "execute_result"
    }
   ],
   "source": [
    "s"
   ]
  },
  {
   "cell_type": "code",
   "execution_count": 7,
   "id": "061f8d2c-74df-4cd1-8d77-1fccc70a3c10",
   "metadata": {},
   "outputs": [],
   "source": [
    "#Ans2\n",
    "l1=[10,20,30,40,50]"
   ]
  },
  {
   "cell_type": "code",
   "execution_count": 8,
   "id": "471530da-20e7-4b67-b60e-3b514a1d78a0",
   "metadata": {},
   "outputs": [],
   "source": [
    "s1=pd.Series(l1)"
   ]
  },
  {
   "cell_type": "code",
   "execution_count": 9,
   "id": "dcb20ba0-4a88-4cc0-9f5e-e44e4afb2e3c",
   "metadata": {},
   "outputs": [
    {
     "data": {
      "text/plain": [
       "0    10\n",
       "1    20\n",
       "2    30\n",
       "3    40\n",
       "4    50\n",
       "dtype: int64"
      ]
     },
     "execution_count": 9,
     "metadata": {},
     "output_type": "execute_result"
    }
   ],
   "source": [
    "s1"
   ]
  },
  {
   "cell_type": "code",
   "execution_count": 10,
   "id": "14e313a6-0e1e-4435-a0f2-99dc6cafc958",
   "metadata": {},
   "outputs": [],
   "source": [
    "#ANS3"
   ]
  },
  {
   "cell_type": "code",
   "execution_count": 11,
   "id": "d1c2b420-40d8-43ac-a42d-06c92f4bd296",
   "metadata": {},
   "outputs": [],
   "source": [
    "d1={ 'Name':['Alice','Bob','Claire'],\n",
    "      'Age':[25,30,27],\n",
    "    'gender':['female','Male','Female']}"
   ]
  },
  {
   "cell_type": "code",
   "execution_count": 12,
   "id": "5898d385-e95b-41e0-94b6-310b68235dda",
   "metadata": {},
   "outputs": [],
   "source": [
    "d2=pd.DataFrame(d1)"
   ]
  },
  {
   "cell_type": "code",
   "execution_count": 13,
   "id": "9c3a5343-9a80-45fa-82ed-39b69ae237b0",
   "metadata": {},
   "outputs": [
    {
     "data": {
      "text/html": [
       "<div>\n",
       "<style scoped>\n",
       "    .dataframe tbody tr th:only-of-type {\n",
       "        vertical-align: middle;\n",
       "    }\n",
       "\n",
       "    .dataframe tbody tr th {\n",
       "        vertical-align: top;\n",
       "    }\n",
       "\n",
       "    .dataframe thead th {\n",
       "        text-align: right;\n",
       "    }\n",
       "</style>\n",
       "<table border=\"1\" class=\"dataframe\">\n",
       "  <thead>\n",
       "    <tr style=\"text-align: right;\">\n",
       "      <th></th>\n",
       "      <th>Name</th>\n",
       "      <th>Age</th>\n",
       "      <th>gender</th>\n",
       "    </tr>\n",
       "  </thead>\n",
       "  <tbody>\n",
       "    <tr>\n",
       "      <th>0</th>\n",
       "      <td>Alice</td>\n",
       "      <td>25</td>\n",
       "      <td>female</td>\n",
       "    </tr>\n",
       "    <tr>\n",
       "      <th>1</th>\n",
       "      <td>Bob</td>\n",
       "      <td>30</td>\n",
       "      <td>Male</td>\n",
       "    </tr>\n",
       "    <tr>\n",
       "      <th>2</th>\n",
       "      <td>Claire</td>\n",
       "      <td>27</td>\n",
       "      <td>Female</td>\n",
       "    </tr>\n",
       "  </tbody>\n",
       "</table>\n",
       "</div>"
      ],
      "text/plain": [
       "     Name  Age  gender\n",
       "0   Alice   25  female\n",
       "1     Bob   30    Male\n",
       "2  Claire   27  Female"
      ]
     },
     "execution_count": 13,
     "metadata": {},
     "output_type": "execute_result"
    }
   ],
   "source": [
    "d2"
   ]
  },
  {
   "cell_type": "code",
   "execution_count": 14,
   "id": "db159f38-1a20-4568-9f3f-646b58322ec9",
   "metadata": {},
   "outputs": [],
   "source": [
    "#ans4"
   ]
  },
  {
   "cell_type": "code",
   "execution_count": 15,
   "id": "d2158fc9-ec96-4ce0-bfd8-cd1fa15efa8a",
   "metadata": {},
   "outputs": [
    {
     "data": {
      "text/plain": [
       "\"A series is a one dimentional storage while a Dataframe is multidimentional storage od data.\\nA series can store data of similar type only while dataframe can store multiple datatypes within it .\\n\\nd1={ 'Name':['Alice','Bob','Claire'],\\n      'Age':[25,30,27],\\n    'gender':['female','Male','Female']}\\nd2=pd.DataFrame(d1)\\nprint(d2)\\n\\nabove code will create a dataframe\\n\\ns=pd.Series([4,8,15,16,42])\\n\\nthis will create a series .\""
      ]
     },
     "execution_count": 15,
     "metadata": {},
     "output_type": "execute_result"
    }
   ],
   "source": [
    "'''A series is a one dimentional storage while a Dataframe is multidimentional storage od data.\n",
    "A series can store data of similar type only while dataframe can store multiple datatypes within it .\n",
    "\n",
    "d1={ 'Name':['Alice','Bob','Claire'],\n",
    "      'Age':[25,30,27],\n",
    "    'gender':['female','Male','Female']}\n",
    "d2=pd.DataFrame(d1)\n",
    "print(d2)\n",
    "\n",
    "above code will create a dataframe\n",
    "\n",
    "s=pd.Series([4,8,15,16,42])\n",
    "\n",
    "this will create a series .'''"
   ]
  },
  {
   "cell_type": "code",
   "execution_count": 16,
   "id": "e2c25b7a-ec9b-42fe-9189-2ecae7f5da77",
   "metadata": {},
   "outputs": [],
   "source": [
    "#ans5"
   ]
  },
  {
   "cell_type": "raw",
   "id": "a8a48cb0-52e4-42d6-b375-38ee7e23192e",
   "metadata": {},
   "source": [
    "read_csv()\n",
    "read_excel()\n",
    "isnull()\n",
    "head()\n",
    "tail()\n",
    "columns\n",
    "sort_values()\n",
    "drop()\n",
    "fillna()"
   ]
  },
  {
   "cell_type": "raw",
   "id": "03721682-eada-4c2d-9317-02be9ec62d86",
   "metadata": {},
   "source": [
    "Ans6 \n",
    "DataFrame\n",
    "Panel"
   ]
  },
  {
   "cell_type": "code",
   "execution_count": 17,
   "id": "799a27df-5bd8-4673-b40e-34e6f68b9c39",
   "metadata": {},
   "outputs": [],
   "source": [
    "#ans7\n",
    "import pandas as pd\n",
    "s7=pd.Series(['Sudh','Krish','Sonu'])\n",
    "s8=pd.Series([23,46,66])"
   ]
  },
  {
   "cell_type": "code",
   "execution_count": 18,
   "id": "0238b44b-0606-4be6-99e3-3a033652fcfd",
   "metadata": {},
   "outputs": [],
   "source": [
    "df1=pd.DataFrame({'name':s7,'rollno':s8})"
   ]
  },
  {
   "cell_type": "code",
   "execution_count": 19,
   "id": "5f9adacb-3e1a-4b39-afff-ea62576811e2",
   "metadata": {},
   "outputs": [
    {
     "data": {
      "text/html": [
       "<div>\n",
       "<style scoped>\n",
       "    .dataframe tbody tr th:only-of-type {\n",
       "        vertical-align: middle;\n",
       "    }\n",
       "\n",
       "    .dataframe tbody tr th {\n",
       "        vertical-align: top;\n",
       "    }\n",
       "\n",
       "    .dataframe thead th {\n",
       "        text-align: right;\n",
       "    }\n",
       "</style>\n",
       "<table border=\"1\" class=\"dataframe\">\n",
       "  <thead>\n",
       "    <tr style=\"text-align: right;\">\n",
       "      <th></th>\n",
       "      <th>name</th>\n",
       "      <th>rollno</th>\n",
       "    </tr>\n",
       "  </thead>\n",
       "  <tbody>\n",
       "    <tr>\n",
       "      <th>0</th>\n",
       "      <td>Sudh</td>\n",
       "      <td>23</td>\n",
       "    </tr>\n",
       "    <tr>\n",
       "      <th>1</th>\n",
       "      <td>Krish</td>\n",
       "      <td>46</td>\n",
       "    </tr>\n",
       "    <tr>\n",
       "      <th>2</th>\n",
       "      <td>Sonu</td>\n",
       "      <td>66</td>\n",
       "    </tr>\n",
       "  </tbody>\n",
       "</table>\n",
       "</div>"
      ],
      "text/plain": [
       "    name  rollno\n",
       "0   Sudh      23\n",
       "1  Krish      46\n",
       "2   Sonu      66"
      ]
     },
     "execution_count": 19,
     "metadata": {},
     "output_type": "execute_result"
    }
   ],
   "source": [
    "df1"
   ]
  },
  {
   "cell_type": "code",
   "execution_count": null,
   "id": "1b9e86fb-b955-45b8-bcb1-773ef47cc3db",
   "metadata": {},
   "outputs": [],
   "source": []
  }
 ],
 "metadata": {
  "kernelspec": {
   "display_name": "Python 3 (ipykernel)",
   "language": "python",
   "name": "python3"
  },
  "language_info": {
   "codemirror_mode": {
    "name": "ipython",
    "version": 3
   },
   "file_extension": ".py",
   "mimetype": "text/x-python",
   "name": "python",
   "nbconvert_exporter": "python",
   "pygments_lexer": "ipython3",
   "version": "3.10.8"
  }
 },
 "nbformat": 4,
 "nbformat_minor": 5
}
